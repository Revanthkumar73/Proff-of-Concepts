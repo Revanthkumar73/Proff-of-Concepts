{
  "nbformat": 4,
  "nbformat_minor": 0,
  "metadata": {
    "colab": {
      "private_outputs": true,
      "provenance": []
    },
    "kernelspec": {
      "name": "python3",
      "display_name": "Python 3"
    },
    "language_info": {
      "name": "python"
    }
  },
  "cells": [
    {
      "cell_type": "code",
      "execution_count": null,
      "metadata": {
        "id": "CpL9idolQdNv"
      },
      "outputs": [],
      "source": [
        "# import required libraries\n",
        "import pandas as pd\n",
        "import glob\n",
        "\n",
        "# store all the csv files in the google collab content folder to read each file.\n",
        "path = \"/content/*.csv\"  # Update with the actual path if needed\n",
        "\n",
        "# Use glob to find all CSV files matching the pattern\n",
        "all_files = glob.glob(path)\n",
        "\n",
        "# Create an empty list to store the dataframes\n",
        "df_list = []\n",
        "\n",
        "# Iterate through each file and read it into a dataframe\n",
        "for filename in all_files:\n",
        "  df = pd.read_csv(filename, index_col=None, header=0)\n",
        "  df_list.append(df)\n",
        "\n",
        "# Combine all dataframes into a single dataframe\n",
        "combined_df = pd.concat(df_list, axis=0, ignore_index=True)\n",
        "\n",
        "# Combined dataframe to a new CSV file\n",
        "combined_df.to_csv(\"combined_data.csv\", index=False)"
      ]
    }
  ]
}